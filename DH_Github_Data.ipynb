{
 "cells": [
  {
   "cell_type": "code",
   "execution_count": 1,
   "metadata": {},
   "outputs": [],
   "source": [
    "import pandas as pd\n",
    "import requests\n",
    "import sys\n",
    "import os"
   ]
  },
  {
   "cell_type": "code",
   "execution_count": 3,
   "metadata": {},
   "outputs": [],
   "source": [
    "import requests"
   ]
  },
  {
   "cell_type": "code",
   "execution_count": 4,
   "metadata": {},
   "outputs": [],
   "source": [
    "auth_token = os.getenv('AUTH_TOKEN')\n",
    "\n",
    "auth_headers = {'Authorization': f'token {auth_token}','User-Agent': 'request'}"
   ]
  },
  {
   "cell_type": "code",
   "execution_count": 39,
   "metadata": {},
   "outputs": [],
   "source": [
    "response = requests.get(f\"https://api.github.com/search/repositories?q=topic:digital-humanities\")"
   ]
  },
  {
   "cell_type": "code",
   "execution_count": 45,
   "metadata": {},
   "outputs": [
    {
     "data": {
      "text/plain": [
       "30"
      ]
     },
     "execution_count": 45,
     "metadata": {},
     "output_type": "execute_result"
    }
   ],
   "source": [
    "response_data = response.json()\n",
    "len(response_data['items'])"
   ]
  },
  {
   "cell_type": "code",
   "execution_count": 46,
   "metadata": {},
   "outputs": [],
   "source": [
    "df = pd.DataFrame.from_dict(response_data['items'])"
   ]
  },
  {
   "cell_type": "code",
   "execution_count": 48,
   "metadata": {},
   "outputs": [
    {
     "data": {
      "text/html": [
       "<div>\n",
       "<style scoped>\n",
       "    .dataframe tbody tr th:only-of-type {\n",
       "        vertical-align: middle;\n",
       "    }\n",
       "\n",
       "    .dataframe tbody tr th {\n",
       "        vertical-align: top;\n",
       "    }\n",
       "\n",
       "    .dataframe thead th {\n",
       "        text-align: right;\n",
       "    }\n",
       "</style>\n",
       "<table border=\"1\" class=\"dataframe\">\n",
       "  <thead>\n",
       "    <tr style=\"text-align: right;\">\n",
       "      <th></th>\n",
       "      <th>id</th>\n",
       "      <th>node_id</th>\n",
       "      <th>name</th>\n",
       "      <th>full_name</th>\n",
       "      <th>private</th>\n",
       "      <th>owner</th>\n",
       "      <th>html_url</th>\n",
       "      <th>description</th>\n",
       "      <th>fork</th>\n",
       "      <th>url</th>\n",
       "      <th>...</th>\n",
       "      <th>license</th>\n",
       "      <th>allow_forking</th>\n",
       "      <th>is_template</th>\n",
       "      <th>topics</th>\n",
       "      <th>visibility</th>\n",
       "      <th>forks</th>\n",
       "      <th>open_issues</th>\n",
       "      <th>watchers</th>\n",
       "      <th>default_branch</th>\n",
       "      <th>score</th>\n",
       "    </tr>\n",
       "  </thead>\n",
       "  <tbody>\n",
       "    <tr>\n",
       "      <th>0</th>\n",
       "      <td>430563822</td>\n",
       "      <td>R_kgDOGanh7g</td>\n",
       "      <td>booknlp</td>\n",
       "      <td>booknlp/booknlp</td>\n",
       "      <td>False</td>\n",
       "      <td>{'login': 'booknlp', 'id': 94403998, 'node_id'...</td>\n",
       "      <td>https://github.com/booknlp/booknlp</td>\n",
       "      <td>BookNLP, a natural language processing pipelin...</td>\n",
       "      <td>False</td>\n",
       "      <td>https://api.github.com/repos/booknlp/booknlp</td>\n",
       "      <td>...</td>\n",
       "      <td>{'key': 'mit', 'name': 'MIT License', 'spdx_id...</td>\n",
       "      <td>True</td>\n",
       "      <td>False</td>\n",
       "      <td>[computational-social-science, cultural-analyt...</td>\n",
       "      <td>public</td>\n",
       "      <td>41</td>\n",
       "      <td>4</td>\n",
       "      <td>489</td>\n",
       "      <td>main</td>\n",
       "      <td>1.0</td>\n",
       "    </tr>\n",
       "  </tbody>\n",
       "</table>\n",
       "<p>1 rows × 78 columns</p>\n",
       "</div>"
      ],
      "text/plain": [
       "          id       node_id     name        full_name  private  \\\n",
       "0  430563822  R_kgDOGanh7g  booknlp  booknlp/booknlp    False   \n",
       "\n",
       "                                               owner  \\\n",
       "0  {'login': 'booknlp', 'id': 94403998, 'node_id'...   \n",
       "\n",
       "                             html_url  \\\n",
       "0  https://github.com/booknlp/booknlp   \n",
       "\n",
       "                                         description   fork  \\\n",
       "0  BookNLP, a natural language processing pipelin...  False   \n",
       "\n",
       "                                            url  ...  \\\n",
       "0  https://api.github.com/repos/booknlp/booknlp  ...   \n",
       "\n",
       "                                             license allow_forking  \\\n",
       "0  {'key': 'mit', 'name': 'MIT License', 'spdx_id...          True   \n",
       "\n",
       "  is_template                                             topics visibility  \\\n",
       "0       False  [computational-social-science, cultural-analyt...     public   \n",
       "\n",
       "  forks open_issues watchers default_branch score  \n",
       "0    41           4      489           main   1.0  \n",
       "\n",
       "[1 rows x 78 columns]"
      ]
     },
     "execution_count": 48,
     "metadata": {},
     "output_type": "execute_result"
    }
   ],
   "source": [
    "df[0:1]"
   ]
  },
  {
   "cell_type": "markdown",
   "metadata": {},
   "source": [
    "#### Repo Specific Data\n",
    "1. How to get all repos with topic DH\n",
    "   - How many other topics on the repo\n",
    "   - What language in the repo\n",
    "   - How many forks\n",
    "   - How many PRs and how many issues\n",
    "2. How to get all contributors to a repo\n",
    "3. How to get all watchers or starrers of a repo\n",
    "   \n",
    "\n",
    "#### User Specific Data\n",
    "1. For contributors, watchers, starrers:\n",
    "   - how many repos do they have\n",
    "     - maybe even list of their repos and their topics?\n",
    "   - who are they following and who are their followers\n",
    "   - what languages they use\n",
    "   - what are they watching and what are they starring\n",
    "   - level of github activity\n"
   ]
  }
 ],
 "metadata": {
  "interpreter": {
   "hash": "f9535a2d3234831e7216b5503226355d93b43b15e5931e93b3445b413875c708"
  },
  "kernelspec": {
   "display_name": "Python 3.9.10 ('values_and_versions_env')",
   "language": "python",
   "name": "python3"
  },
  "language_info": {
   "codemirror_mode": {
    "name": "ipython",
    "version": 3
   },
   "file_extension": ".py",
   "mimetype": "text/x-python",
   "name": "python",
   "nbconvert_exporter": "python",
   "pygments_lexer": "ipython3",
   "version": "3.9.10"
  },
  "orig_nbformat": 4
 },
 "nbformat": 4,
 "nbformat_minor": 2
}
