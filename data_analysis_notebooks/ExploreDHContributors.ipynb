{
 "cells": [
  {
   "cell_type": "markdown",
   "metadata": {},
   "source": [
    "# Exploration of Contributors\n",
    "\n",
    "- How many projects are people involved in?\n",
    "- How many commits have they made to the different projects\n",
    "- What repos are the user connected to? \n",
    "\n"
   ]
  }
 ],
 "metadata": {
  "language_info": {
   "name": "python"
  },
  "orig_nbformat": 4
 },
 "nbformat": 4,
 "nbformat_minor": 2
}
